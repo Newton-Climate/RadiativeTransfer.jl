{
 "metadata": {
  "language_info": {
   "codemirror_mode": {
    "name": "ipython",
    "version": 3
   },
   "file_extension": ".py",
   "mimetype": "text/x-python",
   "name": "python",
   "nbconvert_exporter": "python",
   "pygments_lexer": "ipython3",
   "version": "2.7.15-final"
  },
  "orig_nbformat": 2,
  "kernelspec": {
   "name": "julia-1.4",
   "display_name": "Julia 1.4.1"
  }
 },
 "nbformat": 4,
 "nbformat_minor": 2,
 "cells": [
  {
   "source": [
    "# Automatic Differentiation in RadiativeTransfer.jl\n",
    "\n",
    "This tutorial will demonstrate the automatic differentiation (autodiff) features in the RadiativeTransfer.jl package. Autodiff features are enabled in both the Absorption and Scattering modules' calculations. \n",
    "\n",
    "If you would like to directly see how to perform AD in RadiativeTransfer.jl functions, skip ahead to the [examples section](#Examples). But first, let's see how autodifferentiation actually _works_. \n",
    "\n",
    "## What is Automatic Differentiation?\n",
    "\n",
    "Automatic Differentiation is a set of techniques used to compute the derivative of numeric functions written as computer code. Autodiff is distinct from other well-known derivative-finding techniques such as: \n",
    "\n",
    "- Symbolic differentiation, in which an input formula is algebraically manipulated using differentiation rules to generate the derivative formula. \n",
    "- Numerical differentiation (method of finite differences), in which the derivative is estimated by taking the slope between the target point $(x, f(x))$ and a nearby point, $(x+\\epsilon, f(x + \\epsilon))$\n",
    "\n",
    "Automatic differentiation uses dual numbers to calculate function outputs and their derivatives. The following demonstration is borrowed from a Julia AD tutorial found [here](https://github.com/JuliaAcademy/JuliaTutorials/blob/master/introductory-tutorials/intro-to-julia/AutoDiff.ipynb). \n",
    "\n",
    "To motivate the problem, let's start with an example function: the Babylonian sqrt function, which simply computes sqrt(x). The algorithm is simple: \n",
    "\n",
    "> Repeat $t\\leftarrow(t+x/t)/ 2$ until $t$ converges to $\\sqrt{x}$.\n",
    "\n",
    "Each iteration has one addition and two division operations. In julia, the function looks like:\n",
    "\n"
   ],
   "cell_type": "markdown",
   "metadata": {}
  },
  {
   "cell_type": "code",
   "execution_count": null,
   "metadata": {},
   "outputs": [],
   "source": [
    "function Babylonian(x; N = 10)\n",
    "    t = (1 + x)/2\n",
    "    for i = 2:N; t = (t + x/t)/2 end\n",
    "    t\n",
    "end"
   ]
  },
  {
   "source": [
    "We check that the function works: "
   ],
   "cell_type": "markdown",
   "metadata": {}
  },
  {
   "cell_type": "code",
   "execution_count": null,
   "metadata": {},
   "outputs": [],
   "source": [
    "Babylonian(π), √π"
   ]
  },
  {
   "cell_type": "code",
   "execution_count": null,
   "metadata": {},
   "outputs": [],
   "source": [
    "x = 2; Babylonian(x), √x"
   ]
  },
  {
   "source": [
    "Cool, now let's implement the autodiff feature for this function by introducing \"dual\" numbers that we pass in to `Babylonian` as `x`, instead of passing a simple number. A dual number in our implementation is a tuple that consists of two numbers: the function value at a point and it's derivative there. "
   ],
   "cell_type": "markdown",
   "metadata": {}
  },
  {
   "cell_type": "code",
   "execution_count": null,
   "metadata": {},
   "outputs": [],
   "source": [
    "struct Dual <: Number\n",
    "    f::Tuple{Float64, Float64}\n",
    "end"
   ]
  },
  {
   "source": [
    "We know some basic rules for derivatives, so we can implement those rules for our dual numbers. \n",
    "\n",
    "Namely, we know the: \n",
    "- Sum rule: $(x + y)' = x' + y'$\n",
    "- Quotient rule: $(x/y)' = (yx' - xy')/y^2$"
   ],
   "cell_type": "markdown",
   "metadata": {}
  },
  {
   "cell_type": "code",
   "execution_count": null,
   "metadata": {},
   "outputs": [],
   "source": [
    "import Base: +, /, convert, promote_rule\n",
    "\n",
    "# Implement addition and division of dual numbers\n",
    "+(x::Dual, y::Dual) = Dual(x.f .+ y.f)\n",
    "/(x::Dual, y::Dual) = Dual((x.f[1]/y.f[1], (y.f[1]*x.f[2] - x.f[1]*y.f[2])/y.f[1]^2))\n",
    "\n",
    "# How to convert a real number x to a dual (value=x, deriv=0)\n",
    "convert(::Type{Dual}, x::Real) = Dual((x,zero(x)))\n",
    "\n",
    "# When given a tuple and number, prefer conversion to Dual\n",
    "# This is needed when we do 1 + x where x <: Dual\n",
    "promote_rule(::Type{Dual}, ::Type{<:Number}) = Dual"
   ]
  },
  {
   "source": [
    "Now with no extra effort, we can pass a dual input to Babylonian!"
   ],
   "cell_type": "markdown",
   "metadata": {}
  },
  {
   "cell_type": "code",
   "execution_count": null,
   "metadata": {},
   "outputs": [],
   "source": [
    "x=2; Babylonian(Dual((x,1))),(√x,.5/√x)"
   ]
  },
  {
   "source": [
    "This is the underlying process of automatic differentiation using dual numbers. The function derivative is *not* approximated numerically and is *not* evaluated symbolically. Rather, in autodiff, each arithmetic operation in the original function is accompanied by the derivative operation and so, a single forward pass through the function directly yields its computed derivative. "
   ],
   "cell_type": "markdown",
   "metadata": {}
  },
  {
   "source": [
    "## Where do we use AD in Radiative Transfer calculations? \n",
    "\n",
    "1. In computing the partial derivatives of cross-section calculations with respect to pressure and temperature. \n",
    "2. In computing the partial derivatives of phase-function calculations with respect to aerosol μ, σ and refractive index nᵣ, nᵢ\n",
    "\n",
    "### Cross-Section Example"
   ],
   "cell_type": "markdown",
   "metadata": {}
  },
  {
   "cell_type": "code",
   "execution_count": null,
   "metadata": {},
   "outputs": [],
   "source": [
    "using RadiativeTransfer\n",
    "using RadiativeTransfer.Absorption\n",
    "using RadiativeTransfer.Scattering\n",
    "using Distributions\n",
    "using Plots"
   ]
  },
  {
   "cell_type": "code",
   "execution_count": null,
   "metadata": {},
   "outputs": [],
   "source": [
    "# To calculate cross-section with autodifferentiation w.r.t. p, T:\n",
    "hitran_data = read_hitran(artifact(\"hitran_molec_id_2_CO2\"), mol=2, iso=1, ν_min=6000, ν_max=6400)\n",
    "model = make_hitran_model(hitran_data, Voigt())\n",
    "cross_section, derivs = absorption_cross_section(model, 6000:0.01:6400, 1000.1, 296.1, autodiff=true);"
   ]
  },
  {
   "cell_type": "code",
   "execution_count": null,
   "metadata": {},
   "outputs": [],
   "source": [
    "gr()\n",
    "plot(6000:0.01:6400, cross_section, ylims=(0, 8e-23))\n",
    "xlabel!(\"Wavenumber (cm⁻¹))\")\n",
    "ylabel!(\"Absorption (cm²/molec))\")"
   ]
  },
  {
   "cell_type": "code",
   "execution_count": null,
   "metadata": {},
   "outputs": [],
   "source": [
    "plot(6000:0.01:6400, derivs[:,1], ylims=(-1e-25, 1e-25))\n",
    "xlabel!(\"Wavenumber (cm⁻¹))\")\n",
    "ylabel!(\"d/dp\")"
   ]
  },
  {
   "cell_type": "code",
   "execution_count": null,
   "metadata": {},
   "outputs": [],
   "source": [
    "plot(6000:0.01:6400, derivs[:,2], ylims=(-2e-25, 2e-25))\n",
    "xlabel!(\"Wavenumber (cm⁻¹))\")\n",
    "ylabel!(\"d/dT\")"
   ]
  },
  {
   "source": [
    "### Phase-Function Example\n",
    "\n",
    "Here we see how to compute the partial derivatives of phase-function calculations with respect to aerosol μ, σ and refractive index nᵣ, nᵢ"
   ],
   "cell_type": "markdown",
   "metadata": {}
  },
  {
   "cell_type": "code",
   "execution_count": null,
   "metadata": {},
   "outputs": [],
   "source": [
    "# STEP 1: Create the Aerosol\n",
    "\n",
    "# Aerosol particle distribution and properties \n",
    "μ  = 0.3                # Log mean radius\n",
    "σ  = 6.82               # Log stddev of radius\n",
    "r_max = 30.0            # Maximum radius\n",
    "nquad_radius = 2500     # Number of quadrature points for integrating of size dist.\n",
    "nᵣ = 1.3                # Real part of refractive index\n",
    "nᵢ = 0.001                # Imag part of refractive index\n",
    "\n",
    "size_distribution = LogNormal(log(μ), log(σ))\n",
    "\n",
    "# Create the aerosol\n",
    "aero = make_univariate_aerosol(size_distribution, r_max, nquad_radius, nᵣ, nᵢ)\n"
   ]
  },
  {
   "cell_type": "code",
   "execution_count": null,
   "metadata": {},
   "outputs": [],
   "source": [
    "# STEP 2: Create the Mie Calculations model\n",
    "\n",
    "λ = 0.55   # Incident wavelength\n",
    "polarization_type = Stokes_IQUV()\n",
    "truncation_type = δBGE(10, 10)\n",
    "wigner_file_path = \"/home/rjeyaram/RadiativeTransfer/src/Scattering/Mie/wigner_values.jld\"\n",
    "\n",
    "model_NAI2 = make_mie_model(NAI2(), aero, λ, polarization_type, truncation_type)"
   ]
  },
  {
   "cell_type": "code",
   "execution_count": null,
   "metadata": {},
   "outputs": [],
   "source": [
    "# STEP 3: Perform the Mie Calculations\n",
    "\n",
    "# Compute the derivatives!\n",
    "aerosol_optics_NAI2 = compute_aerosol_optical_properties(model_NAI2, autodiff=true);"
   ]
  },
  {
   "cell_type": "code",
   "execution_count": null,
   "metadata": {},
   "outputs": [],
   "source": [
    "aerosol_optics_NAI2.derivs"
   ]
  },
  {
   "cell_type": "code",
   "execution_count": null,
   "metadata": {},
   "outputs": [],
   "source": []
  }
 ]
}