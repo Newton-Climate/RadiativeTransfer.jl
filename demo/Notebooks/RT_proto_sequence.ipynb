{
 "metadata": {
  "language_info": {
   "codemirror_mode": {
    "name": "ipython",
    "version": 3
   },
   "file_extension": ".py",
   "mimetype": "text/x-python",
   "name": "python",
   "nbconvert_exporter": "python",
   "pygments_lexer": "ipython3",
   "version": 3
  },
  "orig_nbformat": 2,
  "kernelspec": {
   "name": "julia-1.5",
   "display_name": "Julia 1.5.2",
   "language": "julia"
  }
 },
 "nbformat": 4,
 "nbformat_minor": 2,
 "cells": [
  {
   "cell_type": "code",
   "execution_count": 42,
   "metadata": {},
   "outputs": [
    {
     "output_type": "stream",
     "name": "stdout",
     "text": [
      "(μ₀, Nquad, qp_μ, wt_μ) = (0.8660254037844386, 77, [0.0009143960245997507, 0.004810661753876733, 0.011790871964997507, 0.021806297633265026, 0.03478496953367899, 0.05063342212789057, 0.06923748239334376, 0.09046311399894857, 0.11415738878412757, 0.14014959052598386, 0.16825244570148545, 0.19826347312543285, 0.22996644298936766, 0.2631329348833307, 0.2975239836142949, 0.3328918009809475, 0.36898156110799757, 0.40553323648098644, 0.4422834714551921, 0.47896747974109993, 0.5153209521954968, 0.5510819611725047, 0.585992847713176, 0.619802077975278, 0.6522660555254728, 0.6831508764321805, 0.7122340145057356, 0.7393059245276952, 0.7641715518839248, 0.7866517376462151, 0.8065845087819288, 0.8238262436414934, 0.8382527025182286, 0.8497599086345979, 0.8582648342889148, 0.8637055353340137, 0.8660254037844386, 0.866166861341736, 0.8667696157477238, 0.8678494580253845, 0.8693988497683629, 0.8714066572988046, 0.8738584214476072, 0.8767364795867129, 0.8800200962235396, 0.8836856132893127, 0.88770662089244, 0.8920541477180842, 0.8966968698178833, 0.9016013363240553, 0.9067322104762024, 0.9120525242303097, 0.9175239446182298, 0.9231070499398626, 0.9287616137987276, 0.9344468949348012, 0.94012193076654, 0.9457458325271906, 0.9512780798689189, 0.9566788128120577, 0.961909118935793, 0.96693131374074, 0.9717092121627545, 0.9762083892804916, 0.9803964283358434, 0.98424315427499, 0.9877208511152819, 0.9908044615413671, 0.9934717672067341, 0.9957035481618712, 0.9974837191433146, 0.9987994357209129, 0.9996411151017502, 1.0, 0.5, 0.7071067811865476, 0.9659258262890683], [0.0023458093451474062, 0.005444195581847983, 0.00850797770681242, 0.011510862139017157, 0.014430891663084356, 0.017246970700114765, 0.019938794252732584, 0.022486962521274887, 0.024873113812834368, 0.02708005490038702, 0.02909188424423529, 0.030894106308543792, 0.03247373589246281, 0.03381939163749233, 0.03492137800465783, 0.035771755117322425, 0.036364395960377084, 0.03669503052080007, 0.0367612765500734, 0.0365626567259804, 0.03610060208959132, 0.035378441732213606, 0.03440137880608441, 0.03317645303085381, 0.031712489964623884, 0.030020037402416815, 0.028111289354976435, 0.02599999814402961, 0.023701375220335715, 0.021231981350714513, 0.018609606773551862, 0.015853141575642438, 0.012982434924258043, 0.010018133246611965, 0.006981425024230967, 0.003892774478181333, 0.0006325970809236221, 0.00036289796862938335, 0.0008422199875538259, 0.0013161887317625516, 0.0017807365701152978, 0.0022324667095718034, 0.0026681156527189323, 0.0030845422055308584, 0.003478745208555278, 0.0038478840980138763, 0.004189299072429563, 0.0045005301550500665, 0.0047793348786775575, 0.0050237044257496226, 0.005231878093978822, 0.005402355978265922, 0.005533909775420528, 0.005625591632906617, 0.00567674097741084, 0.005686989273804912, 0.005656262680084932, 0.005584782579074912, 0.005473063982992426, 0.005321911822289834, 0.005132415145387037, 0.004905939270873928, 0.0046441159483191505, 0.0043488315977497785, 0.004022213710740923, 0.0036666155069145882, 0.0032845989458137647, 0.0028789161868946404, 0.0024524895367543822, 0.0020083896722563176, 0.0015498106068059507, 0.0010800302099029102, 0.0006022143075636624, 9.786310899602733e-5, 0.0, 0.0, 0.0])\n",
      "┌ Info: Fraction of size distribution cut by max radius: 1.5279000287193867e-9 %\n",
      "└ @ RadiativeTransfer.PhaseFunction /Users/sanghavi/GDrive/code/github/RadiativeTransfer.jl/src/PhaseFunction/mie_helper_functions.jl:264\n",
      "\u001b[32mComputing PhaseFunctions Siewert NAI-2 style ...100%|███| Time: 0:00:01\u001b[39m\n"
     ]
    },
    {
     "output_type": "execute_result",
     "data": {
      "text/plain": [
       "GreekCoefs{Float64}([0.0, 0.0, 2.8713652045342535], [1.0, 0.0, 0.4785608674223756], [0.0, 0.0, 1.1722299360485293], [0.0, 1.392804337111878, 0.0], [0.0, 0.0, 0.0], [0.0, 0.0, 0.0])"
      ]
     },
     "metadata": {},
     "execution_count": 42
    }
   ],
   "source": [
    "using Revise\n",
    "using RadiativeTransfer\n",
    "using RadiativeTransfer.PhaseFunction\n",
    "using RadiativeTransfer.RTM\n",
    "using Distributions\n",
    "\n",
    "\"Generate aerosol optical properties\"\n",
    "FT = Float64\n",
    "\n",
    "# Wavelength (just one for now)\n",
    "λ = 0.770       # Incident wavelength\n",
    "depol = 0.029\n",
    "# Truncation \n",
    "Ltrunc = 72             # Truncation  \n",
    "truncation_type   = PhaseFunction.δBGE(Ltrunc, 2.0)\n",
    "\n",
    "# polarization_type\n",
    "polarization_type = Stokes_I{FT}()\n",
    "\n",
    "# Quadrature points for RTM\n",
    "# Nquad, qp_μ, wt_μ = rt_set_streams(RTM.RadauQuad(), Ltrunc, 60.0, [0.0, 15.0, 30., 45., 60.])\n",
    "vza = [60., 45., 30., 15., 0., 15., 30., 45., 60.]\n",
    "vaz = [180., 180., 180., 180., 0., 0., 0., 0., 0.]\n",
    "sza = 30.\n",
    "Nquad, qp_μ, wt_μ = rt_set_streams(RTM.RadauQuad(), Ltrunc, sza, vza);\n",
    "\n",
    "# Aerosol particle distribution and properties\n",
    "μ            = [0.3] #[0.3,2.0]       # Log mean radius\n",
    "σ            = [2.0] #[2.0,1.8]       # Log stddev of radius\n",
    "r_max        = [30.0] #[30.0,30.0]     # Maximum radius\n",
    "nquad_radius = [2500] #[2500,2500]     # Number of quadrature points for integrating of size dist.\n",
    "nᵣ           = [1.3] #[1.3, 1.66]     # Real part of refractive index\n",
    "nᵢ           = [0.001] #[0.001,0.0003]  # Imag part of refractive index\n",
    "\n",
    "#Aerosol vertical distribution profiles\n",
    "p₀          = [50000.] #[50000., 20000.] # Pressure peak [Pa]\n",
    "σp          = [5000.]   #[5000., 2000.]   # Pressure peak width [Pa]\n",
    "\n",
    "size_distribution = [LogNormal(log(μ[1]), log(σ[1]))] #[LogNormal(log(μ[1]), log(σ[1])), LogNormal(log(μ[2]), log(σ[2]))]\n",
    "\n",
    "# Create the aerosols (needs to be generalized through loops):\n",
    "aero1 = make_univariate_aerosol(size_distribution[1], r_max[1], nquad_radius[1], nᵣ[1], nᵢ[1])\n",
    "#aero2 = make_univariate_aerosol(size_distribution[2], r_max[2], nquad_radius[2], nᵣ[2], nᵢ[2])\n",
    "\n",
    "# Define some details, run aerosol optics\n",
    "model_NAI2_aero1 = make_mie_model(NAI2(), aero1, λ, polarization_type, truncation_type)\n",
    "aerosol_optics_NAI2_aero1 = compute_aerosol_optical_properties(model_NAI2_aero1);\n",
    "# Truncate:\n",
    "aerosol_optics_trunc_aero1 = PhaseFunction.truncate_phase(truncation_type, aerosol_optics_NAI2_aero1)\n",
    "\n",
    "# Define some details, run aerosol optics\n",
    "#model_NAI2_aero2 = make_mie_model(NAI2(), aero2, λ, polarization_type, truncation_type)\n",
    "#aerosol_optics_NAI2_aero2 = compute_aerosol_optical_properties(model_NAI2_aero2);\n",
    "# Truncate:\n",
    "#aerosol_optics_trunc_aero2 = PhaseFunction.truncate_phase(truncation_type, aerosol_optics_NAI2_aero2)\n",
    "\n",
    "# Rayleigh Greek\n",
    "GreekRayleigh = PhaseFunction.get_greek_rayleigh(depol)\n"
   ]
  },
  {
   "cell_type": "code",
   "execution_count": 43,
   "metadata": {},
   "outputs": [
    {
     "output_type": "stream",
     "name": "stdout",
     "text": [
      "(psurf, tau_scat, depol_fct) = (968.854375, 0.024922777884628752, 0.029)\nsum(τAer_1) = 0.9999999999999998\n"
     ]
    }
   ],
   "source": [
    "\" Atmospheric Profiles, basics, needs to be refactore entirely\"\n",
    "file = \"/Users/sanghavi/GDrive/code/github/atm_profiles/MERRA300.prod.assim.inst6_3d_ana_Nv.20150613.hdf.nc4\"   \n",
    "timeIndex = 2 # There is 00, 06, 12 and 18 in UTC, i.e. 6 hourly data stacked together\n",
    "\n",
    "# What latitude do we want? \n",
    "myLat = 34.1377;\n",
    "myLon = -118.1253;\n",
    "\n",
    "# Read profile (and generate dry/wet VCDs per layer)\n",
    "profile_caltech = RTM.read_atmos_profile(file, myLat, myLon, timeIndex);\n",
    "\n",
    "# Compute layer optical thickness for Rayleigh (surface pressure in hPa) \n",
    "τRayl =  RTM.getRayleighLayerOptProp(profile_caltech.psurf/100, λ, depol, profile_caltech.vcd_dry);\n",
    "ϖRayl = ones(length(τRayl))\n",
    "\n",
    "#Compute Naer aerosol optical thickness profiles\n",
    "τAer_1 = RTM.getAerosolLayerOptProp(1.0, p₀[1], σp[1], profile_caltech.p_levels)\n",
    "#τAer_2 = RTM.getAerosolLayerOptProp(0.3, p₀[2], σp[2], profile_caltech.p_levels)\n",
    "\n",
    "# Can be done with arbitrary length later:\n",
    "τAer = 0*τAer_1 #[τAer_1 τAer_2]\n",
    "@show sum(τAer_1)#, sum(τAer_2)\n",
    "ϖAer = [aerosol_optics_NAI2_aero1.ω̃] #[aerosol_optics_NAI2_aero1.ω̃ aerosol_optics_NAI2_aero2.ω̃];\n",
    "fᵗ   = [aerosol_optics_trunc_aero1.fᵗ] #[aerosol_optics_trunc_aero1.fᵗ aerosol_optics_trunc_aero2.fᵗ];\n"
   ]
  },
  {
   "cell_type": "code",
   "execution_count": 44,
   "metadata": {},
   "outputs": [
    {
     "output_type": "execute_result",
     "data": {
      "text/plain": [
       "96885.4375"
      ]
     },
     "metadata": {},
     "execution_count": 44
    }
   ],
   "source": [
    "(τAer[10,:])\n",
    "profile_caltech.p_levels[73]"
   ]
  },
  {
   "cell_type": "code",
   "execution_count": 45,
   "metadata": {
    "tags": []
   },
   "outputs": [
    {
     "output_type": "stream",
     "name": "stdout",
     "text": [
      "polarization_type = Stokes_I{Float64}\n",
      "  n: Int64 1\n",
      "  D: Array{Float64}((1,)) [1.0]\n",
      "  I0: Array{Float64}((1,)) [1.0]\n",
      "\n",
      "size(τAer[1]) = ()\n",
      "(τ, ϖ) = (2.2332106947863025e-6, 1.0)\n",
      "(τAer[iz], τRayl[iz]) = (0.0, 2.2332106947863025e-6)\n",
      "dims = (77, 77)\n"
     ]
    },
    {
     "output_type": "execute_result",
     "data": {
      "text/plain": [
       "(77, 77)"
      ]
     },
     "metadata": {},
     "execution_count": 45
    }
   ],
   "source": [
    "@show polarization_type\n",
    "m = 0\n",
    "RaylZ⁺⁺, RaylZ⁻⁺     = PhaseFunction.compute_Z_moments(polarization_type, qp_μ, GreekRayleigh, m);\n",
    "aero1_Z⁺⁺, aero1_Z⁻⁺ = PhaseFunction.compute_Z_moments(polarization_type, qp_μ, aerosol_optics_trunc_aero1.greek_coefs, m);\n",
    "#aero2_Z⁺⁺, aero2_Z⁻⁺ = PhaseFunction.compute_Z_moments(polarization_type, qp_μ, aerosol_optics_trunc_aero2.greek_coefs, m);\n",
    "aerosol_optics = [aerosol_optics_trunc_aero1] #[aerosol_optics_trunc_aero1 aerosol_optics_trunc_aero2]\n",
    "Aer𝐙⁺⁺ = [aero1_Z⁺⁺] #[aero1_Z⁺⁺, aero2_Z⁺⁺];\n",
    "Aer𝐙⁻⁺ = [aero1_Z⁻⁺] #[aero1_Z⁻⁺, aero2_Z⁻⁺];\n",
    "@show size(τAer[1])\n",
    "iz = 10\n",
    "τ, ϖ, Z⁺⁺, Z⁻⁺  = RTM.construct_atm_layer(τRayl[iz], τAer[iz,:], ϖRayl[iz], ϖAer, fᵗ, RaylZ⁺⁺, RaylZ⁻⁺, Aer𝐙⁺⁺, Aer𝐙⁻⁺)\n",
    "@show τ, ϖ\n",
    "@show τAer[iz], τRayl[iz]\n",
    "dims = size(RaylZ⁺⁺)\n",
    "@show dims"
   ]
  },
  {
   "cell_type": "code",
   "execution_count": 46,
   "metadata": {
    "tags": []
   },
   "outputs": [
    {
     "output_type": "stream",
     "name": "stdout",
     "text": [
      "μ0 = 0.8660254037844386\n",
      "iμ0 = 37\n",
      "dims = (77,)\n",
      "m = 0\n",
      "size(Rayl𝐙⁺⁺) = (77, 77)\n",
      "weight * bigCS * R⁻⁺[istart:iend, istart0:iend0] = [7.72296211590854e-6]\n",
      "wt_μ[iμ0] = 0.0006325970809236221\n",
      "weight * bigCS * R⁻⁺[istart:iend, istart0:iend0] = [6.090653255239481e-6]\n",
      "wt_μ[iμ0] = 0.0006325970809236221\n",
      "weight * bigCS * R⁻⁺[istart:iend, istart0:iend0] = [5.471604283861906e-6]\n",
      "wt_μ[iμ0] = 0.0006325970809236221\n",
      "weight * bigCS * R⁻⁺[istart:iend, istart0:iend0] = [5.230062535670684e-6]\n",
      "wt_μ[iμ0] = 0.0006325970809236221\n",
      "weight * bigCS * R⁻⁺[istart:iend, istart0:iend0] = [5.16620541684431e-6]\n",
      "wt_μ[iμ0] = 0.0006325970809236221\n",
      "weight * bigCS * R⁻⁺[istart:iend, istart0:iend0] = [5.230062535670684e-6]\n",
      "wt_μ[iμ0] = 0.0006325970809236221\n",
      "weight * bigCS * R⁻⁺[istart:iend, istart0:iend0] = [5.471604283861906e-6]\n",
      "wt_μ[iμ0] = 0.0006325970809236221\n",
      "weight * bigCS * R⁻⁺[istart:iend, istart0:iend0] = [6.090653255239481e-6]\n",
      "wt_μ[iμ0] = 0.0006325970809236221\n",
      "weight * bigCS * R⁻⁺[istart:iend, istart0:iend0] = [7.72296211590854e-6]\n",
      "wt_μ[iμ0] = 0.0006325970809236221\n",
      "m = 1\n",
      "size(Rayl𝐙⁺⁺) = (77, 77)\n",
      "weight * bigCS * R⁻⁺[istart:iend, istart0:iend0] = [2.0429100861675125e-6]\n",
      "wt_μ[iμ0] = 0.0006325970809236221\n",
      "weight * bigCS * R⁻⁺[istart:iend, istart0:iend0] = [1.6807240525502632e-6]\n",
      "wt_μ[iμ0] = 0.0006325970809236221\n",
      "weight * bigCS * R⁻⁺[istart:iend, istart0:iend0] = [1.1924565755783142e-6]\n",
      "wt_μ[iμ0] = 0.0006325970809236221\n",
      "weight * bigCS * R⁻⁺[istart:iend, istart0:iend0] = [6.182180722548728e-7]\n",
      "wt_μ[iμ0] = 0.0006325970809236221\n",
      "weight * bigCS * R⁻⁺[istart:iend, istart0:iend0] = [0.0]\n",
      "wt_μ[iμ0] = 0.0006325970809236221\n",
      "weight * bigCS * R⁻⁺[istart:iend, istart0:iend0] = [-6.182180722548728e-7]\n",
      "wt_μ[iμ0] = 0.0006325970809236221\n",
      "weight * bigCS * R⁻⁺[istart:iend, istart0:iend0] = [-1.1924565755783142e-6]\n",
      "wt_μ[iμ0] = 0.0006325970809236221\n",
      "weight * bigCS * R⁻⁺[istart:iend, istart0:iend0] = [-1.6807240525502632e-6]\n",
      "wt_μ[iμ0] = 0.0006325970809236221\n",
      "weight * bigCS * R⁻⁺[istart:iend, istart0:iend0] = [-2.0429100861675125e-6]\n",
      "wt_μ[iμ0] = 0.0006325970809236221\n",
      "m = 2\n",
      "size(Rayl𝐙⁺⁺) = (77, 77)\n",
      "weight * bigCS * R⁻⁺[istart:iend, istart0:iend0] = [5.141422614515735e-7]\n",
      "wt_μ[iμ0] = 0.0006325970809236221\n",
      "weight * bigCS * R⁻⁺[istart:iend, istart0:iend0] = [2.4421340354185777e-7]\n",
      "wt_μ[iμ0] = 0.0006325970809236221\n",
      "weight * bigCS * R⁻⁺[istart:iend, istart0:iend0] = [1.0003566745961254e-7]\n",
      "wt_μ[iμ0] = 0.0006325970809236221\n",
      "weight * bigCS * R⁻⁺[istart:iend, istart0:iend0] = [2.406949661458859e-8]\n",
      "wt_μ[iμ0] = 0.0006325970809236221\n",
      "weight * bigCS * R⁻⁺[istart:iend, istart0:iend0] = [0.0]\n",
      "wt_μ[iμ0] = 0.0006325970809236221\n",
      "weight * bigCS * R⁻⁺[istart:iend, istart0:iend0] = [2.406949661458859e-8]\n",
      "wt_μ[iμ0] = 0.0006325970809236221\n",
      "weight * bigCS * R⁻⁺[istart:iend, istart0:iend0] = [1.0003566745961254e-7]\n",
      "wt_μ[iμ0] = 0.0006325970809236221\n",
      "weight * bigCS * R⁻⁺[istart:iend, istart0:iend0] = [2.4421340354185777e-7]\n",
      "wt_μ[iμ0] = 0.0006325970809236221\n",
      "weight * bigCS * R⁻⁺[istart:iend, istart0:iend0] = [5.141422614515735e-7]\n",
      "wt_μ[iμ0] = 0.0006325970809236221\n",
      "\u001b[0m\u001b[1m ──────────────────────────────────────────────────────────────────────\u001b[22m\n",
      "\u001b[0m\u001b[1m                       \u001b[22m        Time                   Allocations      \n",
      "                       ──────────────────────   ───────────────────────\n",
      "   Tot / % measured:         318s / 0.49%           1.34GiB / 16.2%    \n",
      "\n",
      " Section       ncalls     time   %tot     avg     alloc   %tot      avg\n",
      " ──────────────────────────────────────────────────────────────────────\n",
      " elemental        216    1.09s  69.2%  5.03ms   54.5MiB  24.5%   258KiB\n",
      " interaction      213    282ms  18.0%  1.32ms    105MiB  47.3%   505KiB\n",
      " doubling         216    200ms  12.8%   928μs   62.4MiB  28.1%   296KiB\n",
      "\u001b[0m\u001b[1m ──────────────────────────────────────────────────────────────────────\u001b[22m\n",
      "  2.072974 seconds (1.47 M allocations: 437.715 MiB, 3.11% gc time)\n"
     ]
    },
    {
     "output_type": "execute_result",
     "data": {
      "text/plain": [
       "([0.01625049304451154; 0.012670925859519386; … ; 0.007357198992185996; 0.009791689652043257], [0.00978614366979131; 0.007351942650785164; … ; 0.012669625245731888; 0.01625190833704417])"
      ]
     },
     "metadata": {},
     "execution_count": 46
    }
   ],
   "source": [
    "@time R,T = RTM.run_RTM(polarization_type, sza, vza, vaz, τRayl,ϖRayl, τAer, ϖAer, fᵗ, qp_μ, wt_μ, 3, aerosol_optics, GreekRayleigh)"
   ]
  },
  {
   "cell_type": "code",
   "execution_count": 52,
   "metadata": {},
   "outputs": [
    {
     "output_type": "error",
     "ename": "LoadError",
     "evalue": "BoundsError: attempt to access 9×1 Array{Float64,2} at index [1:9, 2]",
     "traceback": [
      "BoundsError: attempt to access 9×1 Array{Float64,2} at index [1:9, 2]",
      "",
      "Stacktrace:",
      " [1] throw_boundserror(::Array{Float64,2}, ::Tuple{Base.Slice{Base.OneTo{Int64}},Int64}) at ./abstractarray.jl:541",
      " [2] checkbounds at ./abstractarray.jl:506 [inlined]",
      " [3] _getindex at ./multidimensional.jl:742 [inlined]",
      " [4] getindex(::Array{Float64,2}, ::Function, ::Int64) at ./abstractarray.jl:1060",
      " [5] top-level scope at In[52]:21",
      " [6] include_string(::Function, ::Module, ::String, ::String) at ./loading.jl:1091"
     ]
    }
   ],
   "source": [
    "using Plots\n",
    "using DelimitedFiles\n",
    "S1=readdlm(\"/Users/sanghavi/GDrive/code/github/RadiativeTransfer.jl/src/Notebooks/Rayl_orig_new.dat\", ' ')\n",
    "vza=[-60. -45. -30. -15. 0. 15. 30. 45. 60.]\n",
    "I_rayl0=S1[:,1]\n",
    "Q_rayl0=S1[:,2]\n",
    "U_rayl0=S1[:,3]\n",
    "V_rayl0=S1[:,4]\n",
    "\n",
    "S2=readdlm(\"/Users/sanghavi/GDrive/code/github/RadiativeTransfer.jl/src/Notebooks/Rayl_orig.dat\", ' ')\n",
    "I_rayl00=S2[:,1]\n",
    "Q_rayl00=S2[:,2]\n",
    "U_rayl00=S2[:,3]\n",
    "V_rayl00=S2[:,4]\n",
    "\n",
    "\n",
    "if polarization_type == Stokes_I\n",
    "    plot(vza', [R[:,1], I_rayl0, I_rayl00], title=\"I, 775 nm\", label=[\"julia\" \"bolshoi\" \"bolshoi0\"], lw=2,       legend=:topright, size = (600, 400))\n",
    "else\n",
    "    p1=plot(vza', [R[:,1], I_rayl0, I_rayl00], title=\"I, 775 nm\", label=[\"julia\" \"bolshoi\" \"bolshoi0\"], lw=2,    legend=:topright, size = (600, 400))\n",
    "    p2=plot(vza', [R[:,2], Q_rayl0, Q_rayl00], title=\"Q, 775 nm\", label=[\"julia\" \"bolshoi\" \"bolshoi0\"], lw=2,\n",
    "    legend=:topleft, size = (600, 400))\n",
    "    plot(p1, p2, layout=(2, 1))\n",
    "end"
   ]
  },
  {
   "cell_type": "code",
   "execution_count": 61,
   "metadata": {},
   "outputs": [
    {
     "output_type": "execute_result",
     "data": {
      "text/plain": [
       "11"
      ]
     },
     "metadata": {},
     "execution_count": 61
    }
   ],
   "source": [
    "i = RTM.nearest_point(qp_μ, 0.5)"
   ]
  },
  {
   "cell_type": "code",
   "execution_count": 89,
   "metadata": {},
   "outputs": [
    {
     "output_type": "execute_result",
     "data": {
      "text/plain": [
       "4×4 Diagonal{Float64,Array{Float64,1}}:\n",
       " 1.0   ⋅    ⋅    ⋅ \n",
       "  ⋅   1.0   ⋅    ⋅ \n",
       "  ⋅    ⋅   0.0   ⋅ \n",
       "  ⋅    ⋅    ⋅   0.0"
      ]
     },
     "metadata": {},
     "execution_count": 89
    }
   ],
   "source": [
    "using LinearAlgebra\n",
    "phi = 180\n",
    "m=0\n",
    "cos_m_phi = cosd(m*phi)\n",
    "sin_m_phi = sind(m*phi)\n",
    "\n",
    "Diagonal([cos_m_phi, cos_m_phi, sin_m_phi, sin_m_phi])"
   ]
  },
  {
   "cell_type": "code",
   "execution_count": 41,
   "metadata": {},
   "outputs": [
    {
     "output_type": "execute_result",
     "data": {
      "text/plain": [
       "96885.4375"
      ]
     },
     "metadata": {},
     "execution_count": 41
    }
   ],
   "source": [
    "plot(profile_caltech.p_levels)\n",
    "profile_caltech.p_levels[end]"
   ]
  },
  {
   "cell_type": "code",
   "execution_count": 38,
   "metadata": {},
   "outputs": [
    {
     "output_type": "execute_result",
     "data": {
      "text/plain": [
       "34×12 Array{Float64,2}:\n",
       " 34.0  60.6    0.14  229.02  0.849    …  0.0      2.176e-5   5.355e-6\n",
       " 33.0  58.6    0.22  241.76  0.902       0.0      2.955e-5   2.595e-5\n",
       " 32.0  56.5    0.3   248.21  1.166       0.0      4.013e-5   7.791e-5\n",
       " 31.0  54.4    0.39  254.44  1.393       0.0      5.256e-5   7.249e-5\n",
       " 30.0  52.2    0.53  260.53  1.647       0.0      6.79e-5    7.517e-5\n",
       " 29.0  50.0    0.71  265.61  1.945    …  0.0      8.493e-5   7.814e-5\n",
       " 28.0  47.7    0.96  269.37  2.312       0.0      0.0001035  7.944e-5\n",
       " 27.0  45.5    1.28  270.88  2.762       0.0      0.0001222  7.601e-5\n",
       " 26.0  43.3    1.7   269.74  3.322       0.0      0.0001382  6.858e-5\n",
       " 25.0  41.1    2.27  265.77  4.015       0.0      0.000148   5.898e-5\n",
       " 24.0  39.0    3.03  260.26  4.871    …  1.0e-7   0.0001492  4.948e-5\n",
       " 23.0  36.9    4.03  254.46  5.873       1.6e-7   0.0001441  4.103e-5\n",
       " 22.0  34.8    5.44  248.39  6.892       3.0e-7   0.0001355  3.693e-5\n",
       "  ⋮                                   ⋱           ⋮          \n",
       " 12.0  16.1   99.69  208.87  0.363       0.0      5.816e-6   1.071e-6\n",
       " 11.0  14.4  131.0   210.4   0.2322      1.0e-9   5.473e-6   1.072e-6\n",
       " 10.0  12.5  176.85  216.11  0.1459      0.0      1.111e-5   3.219e-7\n",
       "  9.0  10.7  236.64  225.66  0.1117   …  3.0e-10  1.774e-5   2.079e-8\n",
       "  8.0   8.8  314.58  239.65  0.0876      5.0e-10  3.923e-5   2.908e-9\n",
       "  7.0   6.8  418.87  254.53  0.064       1.0e-9   8.93e-5    2.412e-10\n",
       "  6.0   4.7  557.76  269.03  0.04275     0.0      0.0001719  3.193e-12\n",
       "  5.0   2.5  735.0   282.0   0.03092     1.0e-9   0.0003259  3.153e-14\n",
       "  4.0   1.9  800.12  285.39  0.02983  …  1.0e-9   0.0003716  1.0e-15\n",
       "  3.0   1.4  849.0   287.6   0.02865     3.0e-9   0.0004788  1.0e-15\n",
       "  2.0   0.8  912.0   290.2   0.02669     6.0e-9   0.0005545  1.0e-15\n",
       "  1.0   0.2  980.0   292.8   0.02335     1.5e-8   0.0003012  1.0e-15"
      ]
     },
     "metadata": {},
     "execution_count": 38
    }
   ],
   "source": [
    "S1=readdlm(\"/Users/sanghavi/GDrive/code/github/RadiativeTransfer.jl/src/Notebooks/mon06lat35n.mpi\", skipstart=3)"
   ]
  },
  {
   "cell_type": "code",
   "execution_count": 39,
   "metadata": {},
   "outputs": [
    {
     "output_type": "execute_result",
     "data": {
      "image/svg+xml": "<?xml version=\"1.0\" encoding=\"utf-8\"?>\n<svg xmlns=\"http://www.w3.org/2000/svg\" xmlns:xlink=\"http://www.w3.org/1999/xlink\" width=\"600\" height=\"400\" viewBox=\"0 0 2400 1600\">\n<defs>\n  <clipPath id=\"clip610\">\n    <rect x=\"0\" y=\"0\" width=\"2400\" height=\"1600\"/>\n  </clipPath>\n</defs>\n<path clip-path=\"url(#clip610)\" d=\"\nM0 1600 L2400 1600 L2400 0 L0 0  Z\n  \" fill=\"#ffffff\" fill-rule=\"evenodd\" fill-opacity=\"1\"/>\n<defs>\n  <clipPath id=\"clip611\">\n    <rect x=\"480\" y=\"0\" width=\"1681\" height=\"1600\"/>\n  </clipPath>\n</defs>\n<path clip-path=\"url(#clip610)\" d=\"\nM139.191 1486.45 L2352.76 1486.45 L2352.76 47.2441 L139.191 47.2441  Z\n  \" fill=\"#ffffff\" fill-rule=\"evenodd\" fill-opacity=\"1\"/>\n<defs>\n  <clipPath id=\"clip612\">\n    <rect x=\"139\" y=\"47\" width=\"2215\" height=\"1440\"/>\n  </clipPath>\n</defs>\n<polyline clip-path=\"url(#clip612)\" style=\"stroke:#000000; stroke-width:2; stroke-opacity:0.1; fill:none\" points=\"\n  201.2,1486.45 201.2,47.2441 \n  \"/>\n<polyline clip-path=\"url(#clip612)\" style=\"stroke:#000000; stroke-width:2; stroke-opacity:0.1; fill:none\" points=\"\n  734.084,1486.45 734.084,47.2441 \n  \"/>\n<polyline clip-path=\"url(#clip612)\" style=\"stroke:#000000; stroke-width:2; stroke-opacity:0.1; fill:none\" points=\"\n  1266.97,1486.45 1266.97,47.2441 \n  \"/>\n<polyline clip-path=\"url(#clip612)\" style=\"stroke:#000000; stroke-width:2; stroke-opacity:0.1; fill:none\" points=\"\n  1799.85,1486.45 1799.85,47.2441 \n  \"/>\n<polyline clip-path=\"url(#clip612)\" style=\"stroke:#000000; stroke-width:2; stroke-opacity:0.1; fill:none\" points=\"\n  2332.74,1486.45 2332.74,47.2441 \n  \"/>\n<polyline clip-path=\"url(#clip610)\" style=\"stroke:#000000; stroke-width:4; stroke-opacity:1; fill:none\" points=\"\n  139.191,1486.45 2352.76,1486.45 \n  \"/>\n<polyline clip-path=\"url(#clip610)\" style=\"stroke:#000000; stroke-width:4; stroke-opacity:1; fill:none\" points=\"\n  201.2,1486.45 201.2,1469.18 \n  \"/>\n<polyline clip-path=\"url(#clip610)\" style=\"stroke:#000000; stroke-width:4; stroke-opacity:1; fill:none\" points=\"\n  734.084,1486.45 734.084,1469.18 \n  \"/>\n<polyline clip-path=\"url(#clip610)\" style=\"stroke:#000000; stroke-width:4; stroke-opacity:1; fill:none\" points=\"\n  1266.97,1486.45 1266.97,1469.18 \n  \"/>\n<polyline clip-path=\"url(#clip610)\" style=\"stroke:#000000; stroke-width:4; stroke-opacity:1; fill:none\" points=\"\n  1799.85,1486.45 1799.85,1469.18 \n  \"/>\n<polyline clip-path=\"url(#clip610)\" style=\"stroke:#000000; stroke-width:4; stroke-opacity:1; fill:none\" points=\"\n  2332.74,1486.45 2332.74,1469.18 \n  \"/>\n<path clip-path=\"url(#clip610)\" d=\"M 0 0 M201.2 1515.64 Q197.588 1515.64 195.76 1519.2 Q193.954 1522.75 193.954 1529.87 Q193.954 1536.98 195.76 1540.55 Q197.588 1544.09 201.2 1544.09 Q204.834 1544.09 206.639 1540.55 Q208.468 1536.98 208.468 1529.87 Q208.468 1522.75 206.639 1519.2 Q204.834 1515.64 201.2 1515.64 M201.2 1511.93 Q207.01 1511.93 210.065 1516.54 Q213.144 1521.12 213.144 1529.87 Q213.144 1538.6 210.065 1543.21 Q207.01 1547.79 201.2 1547.79 Q195.389 1547.79 192.311 1543.21 Q189.255 1538.6 189.255 1529.87 Q189.255 1521.12 192.311 1516.54 Q195.389 1511.93 201.2 1511.93 Z\" fill=\"#000000\" fill-rule=\"evenodd\" fill-opacity=\"1\" /><path clip-path=\"url(#clip610)\" d=\"M 0 0 M702.221 1543.18 L718.54 1543.18 L718.54 1547.12 L696.596 1547.12 L696.596 1543.18 Q699.258 1540.43 703.841 1535.8 Q708.448 1531.15 709.628 1529.81 Q711.874 1527.28 712.753 1525.55 Q713.656 1523.79 713.656 1522.1 Q713.656 1519.34 711.712 1517.61 Q709.79 1515.87 706.689 1515.87 Q704.49 1515.87 702.036 1516.63 Q699.605 1517.4 696.828 1518.95 L696.828 1514.23 Q699.652 1513.09 702.105 1512.51 Q704.559 1511.93 706.596 1511.93 Q711.966 1511.93 715.161 1514.62 Q718.355 1517.31 718.355 1521.8 Q718.355 1523.93 717.545 1525.85 Q716.758 1527.74 714.652 1530.34 Q714.073 1531.01 710.971 1534.23 Q707.869 1537.42 702.221 1543.18 Z\" fill=\"#000000\" fill-rule=\"evenodd\" fill-opacity=\"1\" /><path clip-path=\"url(#clip610)\" d=\"M 0 0 M723.656 1512.56 L742.012 1512.56 L742.012 1516.5 L727.938 1516.5 L727.938 1524.97 Q728.957 1524.62 729.976 1524.46 Q730.994 1524.27 732.013 1524.27 Q737.8 1524.27 741.179 1527.44 Q744.559 1530.62 744.559 1536.03 Q744.559 1541.61 741.087 1544.71 Q737.614 1547.79 731.295 1547.79 Q729.119 1547.79 726.851 1547.42 Q724.605 1547.05 722.198 1546.31 L722.198 1541.61 Q724.281 1542.74 726.503 1543.3 Q728.726 1543.86 731.202 1543.86 Q735.207 1543.86 737.545 1541.75 Q739.883 1539.64 739.883 1536.03 Q739.883 1532.42 737.545 1530.31 Q735.207 1528.21 731.202 1528.21 Q729.327 1528.21 727.452 1528.62 Q725.601 1529.04 723.656 1529.92 L723.656 1512.56 Z\" fill=\"#000000\" fill-rule=\"evenodd\" fill-opacity=\"1\" /><path clip-path=\"url(#clip610)\" d=\"M 0 0 M759.628 1515.64 Q756.017 1515.64 754.188 1519.2 Q752.383 1522.75 752.383 1529.87 Q752.383 1536.98 754.188 1540.55 Q756.017 1544.09 759.628 1544.09 Q763.262 1544.09 765.068 1540.55 Q766.897 1536.98 766.897 1529.87 Q766.897 1522.75 765.068 1519.2 Q763.262 1515.64 759.628 1515.64 M759.628 1511.93 Q765.438 1511.93 768.494 1516.54 Q771.573 1521.12 771.573 1529.87 Q771.573 1538.6 768.494 1543.21 Q765.438 1547.79 759.628 1547.79 Q753.818 1547.79 750.739 1543.21 Q747.684 1538.6 747.684 1529.87 Q747.684 1521.12 750.739 1516.54 Q753.818 1511.93 759.628 1511.93 Z\" fill=\"#000000\" fill-rule=\"evenodd\" fill-opacity=\"1\" /><path clip-path=\"url(#clip610)\" d=\"M 0 0 M1230.23 1512.56 L1248.59 1512.56 L1248.59 1516.5 L1234.52 1516.5 L1234.52 1524.97 Q1235.53 1524.62 1236.55 1524.46 Q1237.57 1524.27 1238.59 1524.27 Q1244.38 1524.27 1247.76 1527.44 Q1251.14 1530.62 1251.14 1536.03 Q1251.14 1541.61 1247.66 1544.71 Q1244.19 1547.79 1237.87 1547.79 Q1235.7 1547.79 1233.43 1547.42 Q1231.18 1547.05 1228.77 1546.31 L1228.77 1541.61 Q1230.86 1542.74 1233.08 1543.3 Q1235.3 1543.86 1237.78 1543.86 Q1241.78 1543.86 1244.12 1541.75 Q1246.46 1539.64 1246.46 1536.03 Q1246.46 1532.42 1244.12 1530.31 Q1241.78 1528.21 1237.78 1528.21 Q1235.9 1528.21 1234.03 1528.62 Q1232.18 1529.04 1230.23 1529.92 L1230.23 1512.56 Z\" fill=\"#000000\" fill-rule=\"evenodd\" fill-opacity=\"1\" /><path clip-path=\"url(#clip610)\" d=\"M 0 0 M1266.21 1515.64 Q1262.59 1515.64 1260.77 1519.2 Q1258.96 1522.75 1258.96 1529.87 Q1258.96 1536.98 1260.77 1540.55 Q1262.59 1544.09 1266.21 1544.09 Q1269.84 1544.09 1271.64 1540.55 Q1273.47 1536.98 1273.47 1529.87 Q1273.47 1522.75 1271.64 1519.2 Q1269.84 1515.64 1266.21 1515.64 M1266.21 1511.93 Q1272.02 1511.93 1275.07 1516.54 Q1278.15 1521.12 1278.15 1529.87 Q1278.15 1538.6 1275.07 1543.21 Q1272.02 1547.79 1266.21 1547.79 Q1260.4 1547.79 1257.32 1543.21 Q1254.26 1538.6 1254.26 1529.87 Q1254.26 1521.12 1257.32 1516.54 Q1260.4 1511.93 1266.21 1511.93 Z\" fill=\"#000000\" fill-rule=\"evenodd\" fill-opacity=\"1\" /><path clip-path=\"url(#clip610)\" d=\"M 0 0 M1293.22 1515.64 Q1289.61 1515.64 1287.78 1519.2 Q1285.97 1522.75 1285.97 1529.87 Q1285.97 1536.98 1287.78 1540.55 Q1289.61 1544.09 1293.22 1544.09 Q1296.85 1544.09 1298.66 1540.55 Q1300.49 1536.98 1300.49 1529.87 Q1300.49 1522.75 1298.66 1519.2 Q1296.85 1515.64 1293.22 1515.64 M1293.22 1511.93 Q1299.03 1511.93 1302.08 1516.54 Q1305.16 1521.12 1305.16 1529.87 Q1305.16 1538.6 1302.08 1543.21 Q1299.03 1547.79 1293.22 1547.79 Q1287.41 1547.79 1284.33 1543.21 Q1281.27 1538.6 1281.27 1529.87 Q1281.27 1521.12 1284.33 1516.54 Q1287.41 1511.93 1293.22 1511.93 Z\" fill=\"#000000\" fill-rule=\"evenodd\" fill-opacity=\"1\" /><path clip-path=\"url(#clip610)\" d=\"M 0 0 M1762.23 1512.56 L1784.45 1512.56 L1784.45 1514.55 L1771.9 1547.12 L1767.02 1547.12 L1778.82 1516.5 L1762.23 1516.5 L1762.23 1512.56 Z\" fill=\"#000000\" fill-rule=\"evenodd\" fill-opacity=\"1\" /><path clip-path=\"url(#clip610)\" d=\"M 0 0 M1789.56 1512.56 L1807.92 1512.56 L1807.92 1516.5 L1793.85 1516.5 L1793.85 1524.97 Q1794.87 1524.62 1795.88 1524.46 Q1796.9 1524.27 1797.92 1524.27 Q1803.71 1524.27 1807.09 1527.44 Q1810.47 1530.62 1810.47 1536.03 Q1810.47 1541.61 1807 1544.71 Q1803.52 1547.79 1797.2 1547.79 Q1795.03 1547.79 1792.76 1547.42 Q1790.51 1547.05 1788.11 1546.31 L1788.11 1541.61 Q1790.19 1542.74 1792.41 1543.3 Q1794.63 1543.86 1797.11 1543.86 Q1801.12 1543.86 1803.45 1541.75 Q1805.79 1539.64 1805.79 1536.03 Q1805.79 1532.42 1803.45 1530.31 Q1801.12 1528.21 1797.11 1528.21 Q1795.24 1528.21 1793.36 1528.62 Q1791.51 1529.04 1789.56 1529.92 L1789.56 1512.56 Z\" fill=\"#000000\" fill-rule=\"evenodd\" fill-opacity=\"1\" /><path clip-path=\"url(#clip610)\" d=\"M 0 0 M1825.54 1515.64 Q1821.93 1515.64 1820.1 1519.2 Q1818.29 1522.75 1818.29 1529.87 Q1818.29 1536.98 1820.1 1540.55 Q1821.93 1544.09 1825.54 1544.09 Q1829.17 1544.09 1830.98 1540.55 Q1832.81 1536.98 1832.81 1529.87 Q1832.81 1522.75 1830.98 1519.2 Q1829.17 1515.64 1825.54 1515.64 M1825.54 1511.93 Q1831.35 1511.93 1834.4 1516.54 Q1837.48 1521.12 1837.48 1529.87 Q1837.48 1538.6 1834.4 1543.21 Q1831.35 1547.79 1825.54 1547.79 Q1819.73 1547.79 1816.65 1543.21 Q1813.59 1538.6 1813.59 1529.87 Q1813.59 1521.12 1816.65 1516.54 Q1819.73 1511.93 1825.54 1511.93 Z\" fill=\"#000000\" fill-rule=\"evenodd\" fill-opacity=\"1\" /><path clip-path=\"url(#clip610)\" d=\"M 0 0 M2282.6 1543.18 L2290.24 1543.18 L2290.24 1516.82 L2281.93 1518.49 L2281.93 1514.23 L2290.19 1512.56 L2294.87 1512.56 L2294.87 1543.18 L2302.51 1543.18 L2302.51 1547.12 L2282.6 1547.12 L2282.6 1543.18 Z\" fill=\"#000000\" fill-rule=\"evenodd\" fill-opacity=\"1\" /><path clip-path=\"url(#clip610)\" d=\"M 0 0 M2317.58 1515.64 Q2313.97 1515.64 2312.14 1519.2 Q2310.33 1522.75 2310.33 1529.87 Q2310.33 1536.98 2312.14 1540.55 Q2313.97 1544.09 2317.58 1544.09 Q2321.21 1544.09 2323.02 1540.55 Q2324.85 1536.98 2324.85 1529.87 Q2324.85 1522.75 2323.02 1519.2 Q2321.21 1515.64 2317.58 1515.64 M2317.58 1511.93 Q2323.39 1511.93 2326.44 1516.54 Q2329.52 1521.12 2329.52 1529.87 Q2329.52 1538.6 2326.44 1543.21 Q2323.39 1547.79 2317.58 1547.79 Q2311.77 1547.79 2308.69 1543.21 Q2305.63 1538.6 2305.63 1529.87 Q2305.63 1521.12 2308.69 1516.54 Q2311.77 1511.93 2317.58 1511.93 Z\" fill=\"#000000\" fill-rule=\"evenodd\" fill-opacity=\"1\" /><path clip-path=\"url(#clip610)\" d=\"M 0 0 M2344.59 1515.64 Q2340.98 1515.64 2339.15 1519.2 Q2337.35 1522.75 2337.35 1529.87 Q2337.35 1536.98 2339.15 1540.55 Q2340.98 1544.09 2344.59 1544.09 Q2348.22 1544.09 2350.03 1540.55 Q2351.86 1536.98 2351.86 1529.87 Q2351.86 1522.75 2350.03 1519.2 Q2348.22 1515.64 2344.59 1515.64 M2344.59 1511.93 Q2350.4 1511.93 2353.46 1516.54 Q2356.53 1521.12 2356.53 1529.87 Q2356.53 1538.6 2353.46 1543.21 Q2350.4 1547.79 2344.59 1547.79 Q2338.78 1547.79 2335.7 1543.21 Q2332.65 1538.6 2332.65 1529.87 Q2332.65 1521.12 2335.7 1516.54 Q2338.78 1511.93 2344.59 1511.93 Z\" fill=\"#000000\" fill-rule=\"evenodd\" fill-opacity=\"1\" /><path clip-path=\"url(#clip610)\" d=\"M 0 0 M2371.6 1515.64 Q2367.99 1515.64 2366.16 1519.2 Q2364.36 1522.75 2364.36 1529.87 Q2364.36 1536.98 2366.16 1540.55 Q2367.99 1544.09 2371.6 1544.09 Q2375.24 1544.09 2377.04 1540.55 Q2378.87 1536.98 2378.87 1529.87 Q2378.87 1522.75 2377.04 1519.2 Q2375.24 1515.64 2371.6 1515.64 M2371.6 1511.93 Q2377.41 1511.93 2380.47 1516.54 Q2383.55 1521.12 2383.55 1529.87 Q2383.55 1538.6 2380.47 1543.21 Q2377.41 1547.79 2371.6 1547.79 Q2365.79 1547.79 2362.72 1543.21 Q2359.66 1538.6 2359.66 1529.87 Q2359.66 1521.12 2362.72 1516.54 Q2365.79 1511.93 2371.6 1511.93 Z\" fill=\"#000000\" fill-rule=\"evenodd\" fill-opacity=\"1\" /><polyline clip-path=\"url(#clip612)\" style=\"stroke:#000000; stroke-width:2; stroke-opacity:0.1; fill:none\" points=\"\n  139.191,1450.54 2352.76,1450.54 \n  \"/>\n<polyline clip-path=\"url(#clip612)\" style=\"stroke:#000000; stroke-width:2; stroke-opacity:0.1; fill:none\" points=\"\n  139.191,1209.38 2352.76,1209.38 \n  \"/>\n<polyline clip-path=\"url(#clip612)\" style=\"stroke:#000000; stroke-width:2; stroke-opacity:0.1; fill:none\" points=\"\n  139.191,968.216 2352.76,968.216 \n  \"/>\n<polyline clip-path=\"url(#clip612)\" style=\"stroke:#000000; stroke-width:2; stroke-opacity:0.1; fill:none\" points=\"\n  139.191,727.054 2352.76,727.054 \n  \"/>\n<polyline clip-path=\"url(#clip612)\" style=\"stroke:#000000; stroke-width:2; stroke-opacity:0.1; fill:none\" points=\"\n  139.191,485.893 2352.76,485.893 \n  \"/>\n<polyline clip-path=\"url(#clip612)\" style=\"stroke:#000000; stroke-width:2; stroke-opacity:0.1; fill:none\" points=\"\n  139.191,244.731 2352.76,244.731 \n  \"/>\n<polyline clip-path=\"url(#clip610)\" style=\"stroke:#000000; stroke-width:4; stroke-opacity:1; fill:none\" points=\"\n  139.191,1486.45 139.191,47.2441 \n  \"/>\n<polyline clip-path=\"url(#clip610)\" style=\"stroke:#000000; stroke-width:4; stroke-opacity:1; fill:none\" points=\"\n  139.191,1450.54 165.754,1450.54 \n  \"/>\n<polyline clip-path=\"url(#clip610)\" style=\"stroke:#000000; stroke-width:4; stroke-opacity:1; fill:none\" points=\"\n  139.191,1209.38 165.754,1209.38 \n  \"/>\n<polyline clip-path=\"url(#clip610)\" style=\"stroke:#000000; stroke-width:4; stroke-opacity:1; fill:none\" points=\"\n  139.191,968.216 165.754,968.216 \n  \"/>\n<polyline clip-path=\"url(#clip610)\" style=\"stroke:#000000; stroke-width:4; stroke-opacity:1; fill:none\" points=\"\n  139.191,727.054 165.754,727.054 \n  \"/>\n<polyline clip-path=\"url(#clip610)\" style=\"stroke:#000000; stroke-width:4; stroke-opacity:1; fill:none\" points=\"\n  139.191,485.893 165.754,485.893 \n  \"/>\n<polyline clip-path=\"url(#clip610)\" style=\"stroke:#000000; stroke-width:4; stroke-opacity:1; fill:none\" points=\"\n  139.191,244.731 165.754,244.731 \n  \"/>\n<path clip-path=\"url(#clip610)\" d=\"M 0 0 M91.2465 1436.34 Q87.6354 1436.34 85.8068 1439.9 Q84.0012 1443.44 84.0012 1450.57 Q84.0012 1457.68 85.8068 1461.24 Q87.6354 1464.79 91.2465 1464.79 Q94.8808 1464.79 96.6863 1461.24 Q98.515 1457.68 98.515 1450.57 Q98.515 1443.44 96.6863 1439.9 Q94.8808 1436.34 91.2465 1436.34 M91.2465 1432.63 Q97.0567 1432.63 100.112 1437.24 Q103.191 1441.82 103.191 1450.57 Q103.191 1459.3 100.112 1463.91 Q97.0567 1468.49 91.2465 1468.49 Q85.4364 1468.49 82.3577 1463.91 Q79.3022 1459.3 79.3022 1450.57 Q79.3022 1441.82 82.3577 1437.24 Q85.4364 1432.63 91.2465 1432.63 Z\" fill=\"#000000\" fill-rule=\"evenodd\" fill-opacity=\"1\" /><path clip-path=\"url(#clip610)\" d=\"M 0 0 M56.2699 1222.72 L63.9087 1222.72 L63.9087 1196.36 L55.5986 1198.02 L55.5986 1193.76 L63.8624 1192.1 L68.5383 1192.1 L68.5383 1222.72 L76.1772 1222.72 L76.1772 1226.66 L56.2699 1226.66 L56.2699 1222.72 Z\" fill=\"#000000\" fill-rule=\"evenodd\" fill-opacity=\"1\" /><path clip-path=\"url(#clip610)\" d=\"M 0 0 M91.2465 1195.18 Q87.6354 1195.18 85.8068 1198.74 Q84.0012 1202.28 84.0012 1209.41 Q84.0012 1216.52 85.8068 1220.08 Q87.6354 1223.63 91.2465 1223.63 Q94.8808 1223.63 96.6863 1220.08 Q98.515 1216.52 98.515 1209.41 Q98.515 1202.28 96.6863 1198.74 Q94.8808 1195.18 91.2465 1195.18 M91.2465 1191.47 Q97.0567 1191.47 100.112 1196.08 Q103.191 1200.66 103.191 1209.41 Q103.191 1218.14 100.112 1222.75 Q97.0567 1227.33 91.2465 1227.33 Q85.4364 1227.33 82.3577 1222.75 Q79.3022 1218.14 79.3022 1209.41 Q79.3022 1200.66 82.3577 1196.08 Q85.4364 1191.47 91.2465 1191.47 Z\" fill=\"#000000\" fill-rule=\"evenodd\" fill-opacity=\"1\" /><path clip-path=\"url(#clip610)\" d=\"M 0 0 M59.8578 981.561 L76.1772 981.561 L76.1772 985.496 L54.2328 985.496 L54.2328 981.561 Q56.8949 978.806 61.4782 974.176 Q66.0846 969.524 67.2652 968.181 Q69.5105 965.658 70.3902 963.922 Q71.2929 962.163 71.2929 960.473 Q71.2929 957.718 69.3485 955.982 Q67.4272 954.246 64.3254 954.246 Q62.1263 954.246 59.6726 955.01 Q57.2421 955.774 54.4643 957.325 L54.4643 952.603 Q57.2884 951.468 59.7421 950.89 Q62.1958 950.311 64.2328 950.311 Q69.6031 950.311 72.7976 952.996 Q75.992 955.681 75.992 960.172 Q75.992 962.302 75.1818 964.223 Q74.3948 966.121 72.2883 968.714 Q71.7096 969.385 68.6078 972.602 Q65.5059 975.797 59.8578 981.561 Z\" fill=\"#000000\" fill-rule=\"evenodd\" fill-opacity=\"1\" /><path clip-path=\"url(#clip610)\" d=\"M 0 0 M91.2465 954.015 Q87.6354 954.015 85.8068 957.579 Q84.0012 961.121 84.0012 968.251 Q84.0012 975.357 85.8068 978.922 Q87.6354 982.463 91.2465 982.463 Q94.8808 982.463 96.6863 978.922 Q98.515 975.357 98.515 968.251 Q98.515 961.121 96.6863 957.579 Q94.8808 954.015 91.2465 954.015 M91.2465 950.311 Q97.0567 950.311 100.112 954.917 Q103.191 959.501 103.191 968.251 Q103.191 976.977 100.112 981.584 Q97.0567 986.167 91.2465 986.167 Q85.4364 986.167 82.3577 981.584 Q79.3022 976.977 79.3022 968.251 Q79.3022 959.501 82.3577 954.917 Q85.4364 950.311 91.2465 950.311 Z\" fill=\"#000000\" fill-rule=\"evenodd\" fill-opacity=\"1\" /><path clip-path=\"url(#clip610)\" d=\"M 0 0 M69.0476 725.7 Q72.404 726.418 74.279 728.686 Q76.1772 730.955 76.1772 734.288 Q76.1772 739.404 72.6587 742.205 Q69.1402 745.006 62.6587 745.006 Q60.4828 745.006 58.168 744.566 Q55.8764 744.149 53.4227 743.293 L53.4227 738.779 Q55.3671 739.913 57.6819 740.492 Q59.9967 741.07 62.5198 741.07 Q66.918 741.07 69.2096 739.334 Q71.5244 737.598 71.5244 734.288 Q71.5244 731.233 69.3717 729.52 Q67.242 727.783 63.4226 727.783 L59.3949 727.783 L59.3949 723.941 L63.6078 723.941 Q67.0569 723.941 68.8855 722.575 Q70.7142 721.186 70.7142 718.594 Q70.7142 715.932 68.8161 714.52 Q66.9411 713.084 63.4226 713.084 Q61.5013 713.084 59.3023 713.501 Q57.1032 713.918 54.4643 714.797 L54.4643 710.631 Q57.1264 709.89 59.4412 709.52 Q61.7791 709.149 63.8393 709.149 Q69.1633 709.149 72.2652 711.58 Q75.367 713.987 75.367 718.108 Q75.367 720.978 73.7235 722.969 Q72.08 724.936 69.0476 725.7 Z\" fill=\"#000000\" fill-rule=\"evenodd\" fill-opacity=\"1\" /><path clip-path=\"url(#clip610)\" d=\"M 0 0 M91.2465 712.853 Q87.6354 712.853 85.8068 716.418 Q84.0012 719.959 84.0012 727.089 Q84.0012 734.195 85.8068 737.76 Q87.6354 741.302 91.2465 741.302 Q94.8808 741.302 96.6863 737.76 Q98.515 734.195 98.515 727.089 Q98.515 719.959 96.6863 716.418 Q94.8808 712.853 91.2465 712.853 M91.2465 709.149 Q97.0567 709.149 100.112 713.756 Q103.191 718.339 103.191 727.089 Q103.191 735.816 100.112 740.422 Q97.0567 745.006 91.2465 745.006 Q85.4364 745.006 82.3577 740.422 Q79.3022 735.816 79.3022 727.089 Q79.3022 718.339 82.3577 713.756 Q85.4364 709.149 91.2465 709.149 Z\" fill=\"#000000\" fill-rule=\"evenodd\" fill-opacity=\"1\" /><path clip-path=\"url(#clip610)\" d=\"M 0 0 M66.5939 472.687 L54.7884 491.136 L66.5939 491.136 L66.5939 472.687 M65.367 468.613 L71.2466 468.613 L71.2466 491.136 L76.1772 491.136 L76.1772 495.025 L71.2466 495.025 L71.2466 503.173 L66.5939 503.173 L66.5939 495.025 L50.9921 495.025 L50.9921 490.511 L65.367 468.613 Z\" fill=\"#000000\" fill-rule=\"evenodd\" fill-opacity=\"1\" /><path clip-path=\"url(#clip610)\" d=\"M 0 0 M91.2465 471.691 Q87.6354 471.691 85.8068 475.256 Q84.0012 478.798 84.0012 485.928 Q84.0012 493.034 85.8068 496.599 Q87.6354 500.14 91.2465 500.14 Q94.8808 500.14 96.6863 496.599 Q98.515 493.034 98.515 485.928 Q98.515 478.798 96.6863 475.256 Q94.8808 471.691 91.2465 471.691 M91.2465 467.988 Q97.0567 467.988 100.112 472.594 Q103.191 477.178 103.191 485.928 Q103.191 494.654 100.112 499.261 Q97.0567 503.844 91.2465 503.844 Q85.4364 503.844 82.3577 499.261 Q79.3022 494.654 79.3022 485.928 Q79.3022 477.178 82.3577 472.594 Q85.4364 467.988 91.2465 467.988 Z\" fill=\"#000000\" fill-rule=\"evenodd\" fill-opacity=\"1\" /><path clip-path=\"url(#clip610)\" d=\"M 0 0 M55.2745 227.451 L73.6309 227.451 L73.6309 231.386 L59.5569 231.386 L59.5569 239.859 Q60.5754 239.511 61.5939 239.349 Q62.6124 239.164 63.6309 239.164 Q69.418 239.164 72.7976 242.335 Q76.1772 245.507 76.1772 250.923 Q76.1772 256.502 72.705 259.604 Q69.2328 262.683 62.9134 262.683 Q60.7374 262.683 58.4689 262.312 Q56.2236 261.942 53.8162 261.201 L53.8162 256.502 Q55.8995 257.636 58.1217 258.192 Q60.3439 258.747 62.8208 258.747 Q66.8254 258.747 69.1633 256.641 Q71.5013 254.534 71.5013 250.923 Q71.5013 247.312 69.1633 245.206 Q66.8254 243.099 62.8208 243.099 Q60.9458 243.099 59.0708 243.516 Q57.2189 243.933 55.2745 244.812 L55.2745 227.451 Z\" fill=\"#000000\" fill-rule=\"evenodd\" fill-opacity=\"1\" /><path clip-path=\"url(#clip610)\" d=\"M 0 0 M91.2465 230.53 Q87.6354 230.53 85.8068 234.095 Q84.0012 237.636 84.0012 244.766 Q84.0012 251.872 85.8068 255.437 Q87.6354 258.979 91.2465 258.979 Q94.8808 258.979 96.6863 255.437 Q98.515 251.872 98.515 244.766 Q98.515 237.636 96.6863 234.095 Q94.8808 230.53 91.2465 230.53 M91.2465 226.826 Q97.0567 226.826 100.112 231.433 Q103.191 236.016 103.191 244.766 Q103.191 253.493 100.112 258.099 Q97.0567 262.683 91.2465 262.683 Q85.4364 262.683 82.3577 258.099 Q79.3022 253.493 79.3022 244.766 Q79.3022 236.016 82.3577 231.433 Q85.4364 226.826 91.2465 226.826 Z\" fill=\"#000000\" fill-rule=\"evenodd\" fill-opacity=\"1\" /><polyline clip-path=\"url(#clip612)\" style=\"stroke:#009af9; stroke-width:4; stroke-opacity:1; fill:none\" points=\"\n  201.839,87.9763 202.031,138.62 202.329,191.676 202.713,244.731 203.246,300.198 203.928,353.254 204.823,406.309 206.038,459.365 207.658,510.009 209.79,560.653 \n  212.795,611.297 216.674,659.529 221.812,705.35 228.696,751.17 237.926,796.991 250.864,842.812 267.277,886.221 290.873,932.042 320.758,975.451 360.596,1018.86 \n  413.693,1062.27 480.431,1103.27 578.162,1149.09 705.607,1192.5 871.739,1238.32 1094.04,1286.55 1390.09,1337.19 1767.88,1390.25 1906.69,1404.72 2010.88,1416.78 \n  2145.16,1431.25 2290.11,1445.72 \n  \"/>\n<path clip-path=\"url(#clip610)\" d=\"\nM1982 216.178 L2278.97 216.178 L2278.97 95.2176 L1982 95.2176  Z\n  \" fill=\"#ffffff\" fill-rule=\"evenodd\" fill-opacity=\"1\"/>\n<polyline clip-path=\"url(#clip610)\" style=\"stroke:#000000; stroke-width:4; stroke-opacity:1; fill:none\" points=\"\n  1982,216.178 2278.97,216.178 2278.97,95.2176 1982,95.2176 1982,216.178 \n  \"/>\n<polyline clip-path=\"url(#clip610)\" style=\"stroke:#009af9; stroke-width:4; stroke-opacity:1; fill:none\" points=\"\n  2006.6,155.698 2154.17,155.698 \n  \"/>\n<path clip-path=\"url(#clip610)\" d=\"M 0 0 M2192.6 175.385 Q2190.8 180.015 2189.09 181.427 Q2187.37 182.839 2184.5 182.839 L2181.1 182.839 L2181.1 179.274 L2183.6 179.274 Q2185.36 179.274 2186.33 178.44 Q2187.3 177.607 2188.48 174.505 L2189.25 172.561 L2178.76 147.052 L2183.28 147.052 L2191.38 167.329 L2199.48 147.052 L2203.99 147.052 L2192.6 175.385 Z\" fill=\"#000000\" fill-rule=\"evenodd\" fill-opacity=\"1\" /><path clip-path=\"url(#clip610)\" d=\"M 0 0 M2209.87 169.042 L2217.51 169.042 L2217.51 142.677 L2209.2 144.343 L2209.2 140.084 L2217.47 138.418 L2222.14 138.418 L2222.14 169.042 L2229.78 169.042 L2229.78 172.978 L2209.87 172.978 L2209.87 169.042 Z\" fill=\"#000000\" fill-rule=\"evenodd\" fill-opacity=\"1\" /></svg>\n"
     },
     "metadata": {},
     "execution_count": 39
    }
   ],
   "source": [
    "z=S1[3:end,2]\n",
    "p=S1[3:end,3]\n",
    "plot(p,z)"
   ]
  },
  {
   "cell_type": "code",
   "execution_count": 42,
   "metadata": {},
   "outputs": [
    {
     "output_type": "stream",
     "name": "stdout",
     "text": [
      "τRayl = [2.458321228068743e-7, 3.122067063797429e-7, 3.659210487514052e-7, 4.5269967561020355e-7, 5.738948540520104e-7, 7.462966596403624e-7, 9.782146946243767e-7, 1.2747366441703955e-6, 1.6514254364346214e-6, 2.126814916654541e-6, 2.7229564361440845e-6, 3.4655656473803567e-6, 4.384534594659293e-6, 5.514158741370244e-6, 6.909597012386021e-6, 8.610999362046342e-6, 1.0673533492988665e-5, 1.3157912479068814e-5, 1.6131986637910835e-5, 1.9670008489807117e-5, 2.3851358997120272e-5, 2.8762343419384757e-5, 3.4491232793154476e-5, 4.113015584595999e-5, 4.877209434559629e-5, 5.817616629638912e-5, 6.916980487696156e-5, 8.197273528402019e-5, 9.682838891988656e-5, 0.00011400219310149508, 0.00013378682554071624, 0.0001564820747675095, 0.00018359978495951913, 0.00021495564648260588, 0.0002511299716844261, 0.00029275915394862194, 0.00034056133773075235, 0.00040063986134184615, 0.0004713589950432979, 0.0005544989515574015, 0.0006523635556957106, 0.0007622049825989785, 0.0008866461370709368, 0.0010348388336259432, 0.001176500925360325, 0.0008890238206638584, 0.0008879990543776357, 0.0008863407360542193, 0.0008853693191492782, 0.0008839970053136377, 0.0008817127349861074, 0.0008798866242059874, 0.0008791773687753995, 0.0008767497232301145, 0.0005837008824066297, 0.0005834937311409574, 0.0005832100179069946, 0.000582725447878545, 0.0005826955079542566, 0.0004661070837821025, 0.0003494759654282509, 0.00034942278827606893, 0.0003493784416672373, 0.0003493405327405138, 0.0003492737087220217, 0.00034913407056649337, 0.00034899457002998273, 0.00034892141855104726, 0.0003488631582434632, 0.0003487657178741147, 0.00034868602850604845, 0.00035349575420913596]\nsum(τRayl) = 0.023735394019581548\n"
     ]
    },
    {
     "output_type": "execute_result",
     "data": {
      "text/plain": [
       "0.023735394019581548"
      ]
     },
     "metadata": {},
     "execution_count": 42
    }
   ],
   "source": [
    "@show τRayl\n",
    "@show sum(τRayl)"
   ]
  },
  {
   "cell_type": "code",
   "execution_count": 43,
   "metadata": {},
   "outputs": [
    {
     "output_type": "execute_result",
     "data": {
      "text/plain": [
       "968.854375"
      ]
     },
     "metadata": {},
     "execution_count": 43
    }
   ],
   "source": [
    "profile_caltech.psurf/100\n"
   ]
  },
  {
   "cell_type": "code",
   "execution_count": null,
   "metadata": {},
   "outputs": [],
   "source": [
    "function compute_Raman_shifts(lambda, v_init, wn_vib, J_init)\n",
    "       #Only for homonuclear diatoms like N2 and O2\n",
    "       \n",
    "       #Initial state\n",
    "       E_init_v = h_Planck * c_light * wn_vib * (v_init+0.5)\n",
    "\n",
    "       #Vibrational shifts\n",
    "       if v_init>0:\n",
    "           E_Obranch = h_Planck * c_light * wn_vib * (v_init-0.5) #v = v_init - 1\n",
    "       E_Sbranch = h_Planck * c_light * wn_vib * (v_init+1.5)     #v = v_init + 1\n",
    "\n",
    "       #Rotational shifts\n",
    "       for dv = -1:1; dJ={-2,0.2};\n",
    "            v = v_init + dv\n",
    "            J = J_init + dJ\n",
    "            JJp1 = J*(J+1) \n",
    "            E_rot_J_v[0, 0] =  h_Planck * c_light * (B_v*JJp1 - D_v*JJp1^2)\n"
   ]
  }
 ]
}